{
 "cells": [
  {
   "cell_type": "code",
   "execution_count": null,
   "id": "e8eb3747-48bb-4f38-bea9-41555adf935a",
   "metadata": {},
   "outputs": [],
   "source": [
    "Q.1 Can you explain the logic and working of the Tower of Hanoi algorithm by writing a Java program? \n",
    "\n",
    "How does the recursion work, and how are the movements of disks between rods accomplished?"
   ]
  },
  {
   "cell_type": "code",
   "execution_count": 1,
   "id": "316e035a-d530-44e7-949f-b85ba4992d11",
   "metadata": {},
   "outputs": [],
   "source": [
    "## program by python \n",
    "\n",
    "def moves(n,s,d,a):\n",
    "    \n",
    "    # Base Condition \n",
    "    if n == 1:\n",
    "        return 1\n",
    "    \n",
    "    ##move n-1 s->a then move 1 biggest coin to s->d and then n-1 coin a-> d\n",
    "    return moves(n-1 , s, a, d) + 1 + moves(n-1, a, d, s)"
   ]
  },
  {
   "cell_type": "code",
   "execution_count": 2,
   "id": "89867e64-5c98-4793-a919-ed6447633558",
   "metadata": {},
   "outputs": [
    {
     "name": "stdout",
     "output_type": "stream",
     "text": [
      "1\n",
      "3\n",
      "7\n"
     ]
    }
   ],
   "source": [
    "print(moves(1,'s','d','a'))\n",
    "print(moves(2,'s','d','a'))\n",
    "print(moves(3,'s','d','a'))"
   ]
  },
  {
   "cell_type": "code",
   "execution_count": null,
   "id": "81738f29-dc40-4d3c-9244-bff7694d2c20",
   "metadata": {},
   "outputs": [],
   "source": [
    "Q.2 Given two strings word1 and word2, return the minimum number of operations required to convert word1 \n",
    "\n",
    "to word2.\n",
    "\n",
    "Example 1:\n",
    "\n",
    " Input: word1 = \"horse\", word2 = \"ros\"\n",
    "\n",
    " Output: 3\n",
    "\n",
    " Explanation: \n",
    "\n",
    " horse -> rorse (replace 'h' with 'r')\n",
    "\n",
    " rorse -> rose (remove 'r')\n",
    "\n",
    " rose -> ros (remove 'e')\n",
    "\n",
    "Example 2:\n",
    "\n",
    " Input: word1 = \"intention\", word2 = \"execution\"\n",
    "\n",
    " Output: 5\n",
    "\n",
    " Explanation: \n",
    "\n",
    " intention -> inention (remove 't')\n",
    "\n",
    " inention -> enention (replace 'i' with 'e')\n",
    "\n",
    " enention -> exention (replace 'n' with 'x')\n",
    "\n",
    " exention -> exection (replace 'n' with 'c')\n",
    "    \n",
    " exection -> execution (insert 'u')"
   ]
  },
  {
   "cell_type": "code",
   "execution_count": 3,
   "id": "3e36b513-2fcf-4fa9-be34-8ddd87791a18",
   "metadata": {},
   "outputs": [
    {
     "name": "stdout",
     "output_type": "stream",
     "text": [
      "Example 1: 3\n",
      "Example 2: 5\n"
     ]
    }
   ],
   "source": [
    "def min_distance_recursive(word1, word2):\n",
    "    def helper(i, j):\n",
    "        # Base cases: if one of the strings is empty\n",
    "        if i == 0:\n",
    "            return j\n",
    "        if j == 0:\n",
    "            return i\n",
    "        \n",
    "        # If the last characters are the same, no operation needed\n",
    "        if word1[i - 1] == word2[j - 1]:\n",
    "            return helper(i - 1, j - 1)\n",
    "        \n",
    "        # Otherwise, consider three operations: insert, delete, and replace\n",
    "        insert_op = helper(i, j - 1) + 1\n",
    "        delete_op = helper(i - 1, j) + 1\n",
    "        replace_op = helper(i - 1, j - 1) + 1\n",
    "        \n",
    "        # Return the minimum of the three operations\n",
    "        return min(insert_op, delete_op, replace_op)\n",
    "    \n",
    "    # Start the recursion with the lengths of both strings\n",
    "    return helper(len(word1), len(word2))\n",
    "\n",
    "# Example usage:\n",
    "word1_1, word2_1 = \"horse\", \"ros\"\n",
    "word1_2, word2_2 = \"intention\", \"execution\"\n",
    "\n",
    "output_1 = min_distance_recursive(word1_1, word2_1)\n",
    "output_2 = min_distance_recursive(word1_2, word2_2)\n",
    "\n",
    "print(f\"Example 1: {output_1}\")  # Output: 3\n",
    "print(f\"Example 2: {output_2}\")  # Output: 5\n"
   ]
  },
  {
   "cell_type": "code",
   "execution_count": null,
   "id": "acb984c4-6652-475e-aa2b-50597868d900",
   "metadata": {},
   "outputs": [],
   "source": [
    "Q. 3 Print the max value of the array [ 13, 1, -3, 22, 5]"
   ]
  },
  {
   "cell_type": "code",
   "execution_count": 4,
   "id": "90b805ac-fe94-48ad-aea1-66244bc924a6",
   "metadata": {},
   "outputs": [
    {
     "name": "stdout",
     "output_type": "stream",
     "text": [
      "The maximum value in the array is: 22\n"
     ]
    }
   ],
   "source": [
    "def find_max(arr, n):\n",
    "    # Base case: if the array has only one element, return that element\n",
    "    if n == 1:\n",
    "        return arr[0]\n",
    "    \n",
    "    # Recursively find the maximum value in the subarray without the last element\n",
    "    max_value = find_max(arr, n - 1)\n",
    "    \n",
    "    # Compare the maximum value in the subarray with the last element\n",
    "    return max(max_value, arr[n - 1])\n",
    "\n",
    "# Example usage:\n",
    "arr = [13, 1, -3, 22, 5]\n",
    "maximum_value = find_max(arr, len(arr))\n",
    "\n",
    "print(f\"The maximum value in the array is: {maximum_value}\")\n"
   ]
  },
  {
   "cell_type": "code",
   "execution_count": null,
   "id": "0be97599-2c75-4a96-981c-e75dac909eab",
   "metadata": {},
   "outputs": [],
   "source": [
    "Q.4 Find the sum of the values of the array [92, 23, 15, -20, 10]"
   ]
  },
  {
   "cell_type": "code",
   "execution_count": 5,
   "id": "9e87f66a-ffaa-4703-b98b-6dab7282f6f0",
   "metadata": {},
   "outputs": [
    {
     "name": "stdout",
     "output_type": "stream",
     "text": [
      "The sum of the values in the array is: 120\n"
     ]
    }
   ],
   "source": [
    "def recursive_sum(arr, n):\n",
    "    # Base case: if the array is empty, the sum is 0\n",
    "    if n == 0:\n",
    "        return 0\n",
    "    \n",
    "    # Recursively calculate the sum of the subarray without the last element\n",
    "    return arr[n - 1] + recursive_sum(arr, n - 1)\n",
    "\n",
    "# Example usage:\n",
    "arr = [92, 23, 15, -20, 10]\n",
    "sum_of_values = recursive_sum(arr, len(arr))\n",
    "\n",
    "print(f\"The sum of the values in the array is: {sum_of_values}\")\n"
   ]
  },
  {
   "cell_type": "code",
   "execution_count": null,
   "id": "f45ae536-6265-4f6d-a789-63a8589b50e2",
   "metadata": {},
   "outputs": [],
   "source": [
    "Q.5 Given a number n. Print if it is an armstrong number or not.An armstrong number is a number if the sum \n",
    "of every digit in that number raised to the power of total digits in that number is equal to the number.\n",
    "\n",
    "Example : 153 = 1^3 + 5^3 + 3^3 = 1 + 125 + 27 = 153 hence 153 is an armstrong number. (Easy)\n",
    "\n",
    "\n",
    "Input1 : 153\n",
    "\n",
    "\n",
    "Output1 : Yes\n",
    "\n",
    "\n",
    "\n",
    "Input 2 : 134\n",
    "\n",
    "Output2 : No"
   ]
  },
  {
   "cell_type": "code",
   "execution_count": 6,
   "id": "bd1f4b74-4563-49ec-a9e2-e63ffd379de4",
   "metadata": {},
   "outputs": [
    {
     "name": "stdout",
     "output_type": "stream",
     "text": [
      "Output 1: No\n",
      "Output 2: No\n"
     ]
    }
   ],
   "source": [
    "def count_digits(n):\n",
    "    # Base case: if the number is 0, it has 1 digit\n",
    "    if n == 0:\n",
    "        return 1\n",
    "    # Recursive case: count the digits without the last digit\n",
    "    return 1 + count_digits(n // 10)\n",
    "\n",
    "def is_armstrong_recursive(n, original, num_digits):\n",
    "    # Base case: if the number is 0, it's an Armstrong number\n",
    "    if n == 0:\n",
    "        return original == 0\n",
    "    \n",
    "    # Recursive case: check if the current digit raised to the power of total digits\n",
    "    # is equal to the remainder of the original number\n",
    "    current_digit = n % 10\n",
    "    return (current_digit ** num_digits == original % 10) and is_armstrong_recursive(n // 10, original // 10, num_digits)\n",
    "\n",
    "def is_armstrong_number_recursive(n):\n",
    "    num_digits = count_digits(n)\n",
    "    return is_armstrong_recursive(n, n, num_digits)\n",
    "\n",
    "# Example usage:\n",
    "input1 = 153\n",
    "output1 = is_armstrong_number_recursive(input1)\n",
    "print(f\"Output 1: {'Yes' if output1 else 'No'}\")\n",
    "\n",
    "input2 = 134\n",
    "output2 = is_armstrong_number_recursive(input2)\n",
    "print(f\"Output 2: {'Yes' if output2 else 'No'}\")\n"
   ]
  },
  {
   "cell_type": "code",
   "execution_count": null,
   "id": "385191ef-c345-4d1d-978d-c9d69fa3eebc",
   "metadata": {},
   "outputs": [],
   "source": []
  }
 ],
 "metadata": {
  "kernelspec": {
   "display_name": "Python 3 (ipykernel)",
   "language": "python",
   "name": "python3"
  },
  "language_info": {
   "codemirror_mode": {
    "name": "ipython",
    "version": 3
   },
   "file_extension": ".py",
   "mimetype": "text/x-python",
   "name": "python",
   "nbconvert_exporter": "python",
   "pygments_lexer": "ipython3",
   "version": "3.10.8"
  }
 },
 "nbformat": 4,
 "nbformat_minor": 5
}
